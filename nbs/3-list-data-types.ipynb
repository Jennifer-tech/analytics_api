{
 "cells": [
  {
   "cell_type": "code",
   "execution_count": 4,
   "id": "b5f5094d",
   "metadata": {},
   "outputs": [
    {
     "data": {
      "text/plain": [
       "'http://localhost:8002/api/events'"
      ]
     },
     "execution_count": 4,
     "metadata": {},
     "output_type": "execute_result"
    }
   ],
   "source": [
    "import requests\n",
    "from pprint import pprint\n",
    "path = \"/api/events\"\n",
    "base_url = \"http://localhost:8002\"\n",
    "endpoint = f\"{base_url}{path}\"\n",
    "endpoint"
   ]
  },
  {
   "cell_type": "code",
   "execution_count": 11,
   "id": "c50295e7",
   "metadata": {},
   "outputs": [
    {
     "name": "stdout",
     "output_type": "stream",
     "text": [
      "ok True\n",
      "[{'avg_duration': 39.0,\n",
      "  'bucket': '2025-05-24T16:15:00Z',\n",
      "  'count': 1,\n",
      "  'operating_system': 'iPad',\n",
      "  'page': '/products',\n",
      "  'ua': ''},\n",
      " {'avg_duration': 268.0,\n",
      "  'bucket': '2025-05-24T17:00:00Z',\n",
      "  'count': 1,\n",
      "  'operating_system': 'Linux',\n",
      "  'page': '/products',\n",
      "  'ua': ''}]\n"
     ]
    }
   ],
   "source": [
    "response = requests.get(endpoint, params={'duration': '15 minutes', 'pages': []})\n",
    "print('ok', response.ok)\n",
    "if response.ok:\n",
    "    data = response.json()\n",
    "    pprint(data)"
   ]
  },
  {
   "cell_type": "code",
   "execution_count": 4,
   "id": "90113daa",
   "metadata": {},
   "outputs": [
    {
     "name": "stdout",
     "output_type": "stream",
     "text": [
      "ok 200\n",
      "{'description': '', 'id': 12, 'page': ''}\n"
     ]
    }
   ],
   "source": [
    "detail_path = \"/api/events/12\"\n",
    "detail_endpoint = f\"{base_url}{detail_path}\"\n",
    "r = requests.get(detail_endpoint)\n",
    "print('ok', r.status_code)\n",
    "if r.ok:\n",
    "    data = r.json()\n",
    "    pprint(data)"
   ]
  },
  {
   "cell_type": "code",
   "execution_count": null,
   "id": "c65f00fe",
   "metadata": {},
   "outputs": [],
   "source": []
  }
 ],
 "metadata": {
  "kernelspec": {
   "display_name": ".venv",
   "language": "python",
   "name": "python3"
  },
  "language_info": {
   "codemirror_mode": {
    "name": "ipython",
    "version": 3
   },
   "file_extension": ".py",
   "mimetype": "text/x-python",
   "name": "python",
   "nbconvert_exporter": "python",
   "pygments_lexer": "ipython3",
   "version": "3.13.3"
  }
 },
 "nbformat": 4,
 "nbformat_minor": 5
}
